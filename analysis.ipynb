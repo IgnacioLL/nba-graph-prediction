{
 "cells": [
  {
   "cell_type": "code",
   "execution_count": 1,
   "metadata": {},
   "outputs": [],
   "source": [
    "import pandas as pd\n",
    "import numpy as np \n",
    "import os\n",
    "\n",
    "import torch\n",
    "\n",
    "from preprocessing import drop_null_in_players\n",
    "from graph import create_graph_from_dataset\n",
    "from model_data import model_data, DiskDataset, check_data\n",
    "from model import GNNRegression, train_nn\n",
    "\n",
    "\n",
    "\n"
   ]
  },
  {
   "cell_type": "code",
   "execution_count": 2,
   "metadata": {},
   "outputs": [
    {
     "name": "stderr",
     "output_type": "stream",
     "text": [
      "/mnt/c/MDS/Q2/SDM/project/NBA-Player-Movements/analysis/graph.py:77: FutureWarning: Series.__getitem__ treating keys as positions is deprecated. In a future version, integer keys will always be treated as labels (consistent with DataFrame behavior). To access a value by position, use `ser.iloc[pos]`\n",
      "  self.add_edge(row[0], row[1], weight=row[2])\n",
      "/mnt/c/MDS/Q2/SDM/project/NBA-Player-Movements/analysis/graph.py:77: FutureWarning: Series.__getitem__ treating keys as positions is deprecated. In a future version, integer keys will always be treated as labels (consistent with DataFrame behavior). To access a value by position, use `ser.iloc[pos]`\n",
      "  self.add_edge(row[0], row[1], weight=row[2])\n",
      "/mnt/c/MDS/Q2/SDM/project/NBA-Player-Movements/analysis/graph.py:77: FutureWarning: Series.__getitem__ treating keys as positions is deprecated. In a future version, integer keys will always be treated as labels (consistent with DataFrame behavior). To access a value by position, use `ser.iloc[pos]`\n",
      "  self.add_edge(row[0], row[1], weight=row[2])\n",
      "/mnt/c/MDS/Q2/SDM/project/NBA-Player-Movements/analysis/graph.py:77: FutureWarning: Series.__getitem__ treating keys as positions is deprecated. In a future version, integer keys will always be treated as labels (consistent with DataFrame behavior). To access a value by position, use `ser.iloc[pos]`\n",
      "  self.add_edge(row[0], row[1], weight=row[2])\n",
      "/mnt/c/MDS/Q2/SDM/project/NBA-Player-Movements/analysis/graph.py:77: FutureWarning: Series.__getitem__ treating keys as positions is deprecated. In a future version, integer keys will always be treated as labels (consistent with DataFrame behavior). To access a value by position, use `ser.iloc[pos]`\n",
      "  self.add_edge(row[0], row[1], weight=row[2])\n",
      "/mnt/c/MDS/Q2/SDM/project/NBA-Player-Movements/analysis/graph.py:77: FutureWarning: Series.__getitem__ treating keys as positions is deprecated. In a future version, integer keys will always be treated as labels (consistent with DataFrame behavior). To access a value by position, use `ser.iloc[pos]`\n",
      "  self.add_edge(row[0], row[1], weight=row[2])\n",
      "/mnt/c/MDS/Q2/SDM/project/NBA-Player-Movements/analysis/graph.py:77: FutureWarning: Series.__getitem__ treating keys as positions is deprecated. In a future version, integer keys will always be treated as labels (consistent with DataFrame behavior). To access a value by position, use `ser.iloc[pos]`\n",
      "  self.add_edge(row[0], row[1], weight=row[2])\n",
      "/mnt/c/MDS/Q2/SDM/project/NBA-Player-Movements/analysis/graph.py:77: FutureWarning: Series.__getitem__ treating keys as positions is deprecated. In a future version, integer keys will always be treated as labels (consistent with DataFrame behavior). To access a value by position, use `ser.iloc[pos]`\n",
      "  self.add_edge(row[0], row[1], weight=row[2])\n",
      "/mnt/c/MDS/Q2/SDM/project/NBA-Player-Movements/analysis/graph.py:77: FutureWarning: Series.__getitem__ treating keys as positions is deprecated. In a future version, integer keys will always be treated as labels (consistent with DataFrame behavior). To access a value by position, use `ser.iloc[pos]`\n",
      "  self.add_edge(row[0], row[1], weight=row[2])\n",
      "/mnt/c/MDS/Q2/SDM/project/NBA-Player-Movements/analysis/graph.py:77: FutureWarning: Series.__getitem__ treating keys as positions is deprecated. In a future version, integer keys will always be treated as labels (consistent with DataFrame behavior). To access a value by position, use `ser.iloc[pos]`\n",
      "  self.add_edge(row[0], row[1], weight=row[2])\n",
      "/mnt/c/MDS/Q2/SDM/project/NBA-Player-Movements/analysis/graph.py:77: FutureWarning: Series.__getitem__ treating keys as positions is deprecated. In a future version, integer keys will always be treated as labels (consistent with DataFrame behavior). To access a value by position, use `ser.iloc[pos]`\n",
      "  self.add_edge(row[0], row[1], weight=row[2])\n",
      "/mnt/c/MDS/Q2/SDM/project/NBA-Player-Movements/analysis/graph.py:77: FutureWarning: Series.__getitem__ treating keys as positions is deprecated. In a future version, integer keys will always be treated as labels (consistent with DataFrame behavior). To access a value by position, use `ser.iloc[pos]`\n",
      "  self.add_edge(row[0], row[1], weight=row[2])\n",
      "/mnt/c/MDS/Q2/SDM/project/NBA-Player-Movements/analysis/graph.py:77: FutureWarning: Series.__getitem__ treating keys as positions is deprecated. In a future version, integer keys will always be treated as labels (consistent with DataFrame behavior). To access a value by position, use `ser.iloc[pos]`\n",
      "  self.add_edge(row[0], row[1], weight=row[2])\n",
      "/mnt/c/MDS/Q2/SDM/project/NBA-Player-Movements/analysis/graph.py:77: FutureWarning: Series.__getitem__ treating keys as positions is deprecated. In a future version, integer keys will always be treated as labels (consistent with DataFrame behavior). To access a value by position, use `ser.iloc[pos]`\n",
      "  self.add_edge(row[0], row[1], weight=row[2])\n",
      "/mnt/c/MDS/Q2/SDM/project/NBA-Player-Movements/analysis/graph.py:77: FutureWarning: Series.__getitem__ treating keys as positions is deprecated. In a future version, integer keys will always be treated as labels (consistent with DataFrame behavior). To access a value by position, use `ser.iloc[pos]`\n",
      "  self.add_edge(row[0], row[1], weight=row[2])\n",
      "/mnt/c/MDS/Q2/SDM/project/NBA-Player-Movements/analysis/graph.py:77: FutureWarning: Series.__getitem__ treating keys as positions is deprecated. In a future version, integer keys will always be treated as labels (consistent with DataFrame behavior). To access a value by position, use `ser.iloc[pos]`\n",
      "  self.add_edge(row[0], row[1], weight=row[2])\n",
      "/mnt/c/MDS/Q2/SDM/project/NBA-Player-Movements/analysis/graph.py:77: FutureWarning: Series.__getitem__ treating keys as positions is deprecated. In a future version, integer keys will always be treated as labels (consistent with DataFrame behavior). To access a value by position, use `ser.iloc[pos]`\n",
      "  self.add_edge(row[0], row[1], weight=row[2])\n",
      "/mnt/c/MDS/Q2/SDM/project/NBA-Player-Movements/analysis/graph.py:77: FutureWarning: Series.__getitem__ treating keys as positions is deprecated. In a future version, integer keys will always be treated as labels (consistent with DataFrame behavior). To access a value by position, use `ser.iloc[pos]`\n",
      "  self.add_edge(row[0], row[1], weight=row[2])\n",
      "/mnt/c/MDS/Q2/SDM/project/NBA-Player-Movements/analysis/graph.py:77: FutureWarning: Series.__getitem__ treating keys as positions is deprecated. In a future version, integer keys will always be treated as labels (consistent with DataFrame behavior). To access a value by position, use `ser.iloc[pos]`\n",
      "  self.add_edge(row[0], row[1], weight=row[2])\n",
      "/mnt/c/MDS/Q2/SDM/project/NBA-Player-Movements/analysis/graph.py:77: FutureWarning: Series.__getitem__ treating keys as positions is deprecated. In a future version, integer keys will always be treated as labels (consistent with DataFrame behavior). To access a value by position, use `ser.iloc[pos]`\n",
      "  self.add_edge(row[0], row[1], weight=row[2])\n",
      "/mnt/c/MDS/Q2/SDM/project/NBA-Player-Movements/analysis/graph.py:77: FutureWarning: Series.__getitem__ treating keys as positions is deprecated. In a future version, integer keys will always be treated as labels (consistent with DataFrame behavior). To access a value by position, use `ser.iloc[pos]`\n",
      "  self.add_edge(row[0], row[1], weight=row[2])\n",
      "/mnt/c/MDS/Q2/SDM/project/NBA-Player-Movements/analysis/graph.py:77: FutureWarning: Series.__getitem__ treating keys as positions is deprecated. In a future version, integer keys will always be treated as labels (consistent with DataFrame behavior). To access a value by position, use `ser.iloc[pos]`\n",
      "  self.add_edge(row[0], row[1], weight=row[2])\n",
      "/mnt/c/MDS/Q2/SDM/project/NBA-Player-Movements/analysis/graph.py:77: FutureWarning: Series.__getitem__ treating keys as positions is deprecated. In a future version, integer keys will always be treated as labels (consistent with DataFrame behavior). To access a value by position, use `ser.iloc[pos]`\n",
      "  self.add_edge(row[0], row[1], weight=row[2])\n",
      "/mnt/c/MDS/Q2/SDM/project/NBA-Player-Movements/analysis/graph.py:77: FutureWarning: Series.__getitem__ treating keys as positions is deprecated. In a future version, integer keys will always be treated as labels (consistent with DataFrame behavior). To access a value by position, use `ser.iloc[pos]`\n",
      "  self.add_edge(row[0], row[1], weight=row[2])\n",
      "/mnt/c/MDS/Q2/SDM/project/NBA-Player-Movements/analysis/graph.py:77: FutureWarning: Series.__getitem__ treating keys as positions is deprecated. In a future version, integer keys will always be treated as labels (consistent with DataFrame behavior). To access a value by position, use `ser.iloc[pos]`\n",
      "  self.add_edge(row[0], row[1], weight=row[2])\n",
      "/mnt/c/MDS/Q2/SDM/project/NBA-Player-Movements/analysis/graph.py:77: FutureWarning: Series.__getitem__ treating keys as positions is deprecated. In a future version, integer keys will always be treated as labels (consistent with DataFrame behavior). To access a value by position, use `ser.iloc[pos]`\n",
      "  self.add_edge(row[0], row[1], weight=row[2])\n",
      "/mnt/c/MDS/Q2/SDM/project/NBA-Player-Movements/analysis/graph.py:77: FutureWarning: Series.__getitem__ treating keys as positions is deprecated. In a future version, integer keys will always be treated as labels (consistent with DataFrame behavior). To access a value by position, use `ser.iloc[pos]`\n",
      "  self.add_edge(row[0], row[1], weight=row[2])\n",
      "/mnt/c/MDS/Q2/SDM/project/NBA-Player-Movements/analysis/graph.py:77: FutureWarning: Series.__getitem__ treating keys as positions is deprecated. In a future version, integer keys will always be treated as labels (consistent with DataFrame behavior). To access a value by position, use `ser.iloc[pos]`\n",
      "  self.add_edge(row[0], row[1], weight=row[2])\n"
     ]
    }
   ],
   "source": [
    "path_data_model = \"../data/model_data/\"\n",
    "path_src_data = \"../data/parquet/\"\n",
    "os.makedirs(path_data_model, exist_ok=True)\n",
    "\n",
    "for name_game in os.listdir(path_src_data):\n",
    "\n",
    "    if name_game not in os.listdir(path_data_model):\n",
    "\n",
    "        data = pd.read_parquet(f\"{path_src_data}{name_game}\")\n",
    "        data.sort_values(by=['quarter', 'game_clock'], ascending=[True, False], inplace=True)\n",
    "\n",
    "        data[['awayscore', 'homescore']] = data[['awayscore', 'homescore']].ffill()\n",
    "        data['shot_clock'] = data['shot_clock'].fillna(24)\n",
    "        \n",
    "        demo_data = data.iloc[0]    \n",
    "        teams_list  = [demo_data['player2_team'],demo_data['player9_team']] \n",
    "\n",
    "        data_wo_empty_posessions = data[data['posession'].notna()]\n",
    "        data_wo_null_values = drop_null_in_players(data=data_wo_empty_posessions)\n",
    "        saved_graphs = create_graph_from_dataset(data=data_wo_null_values)\n",
    "        y = np.where(data_wo_null_values['posession'] == 'home', data_wo_null_values['y_home'], data_wo_null_values['y_away'])\n",
    "\n",
    "        data_list = model_data(saved_graphs=saved_graphs, y=y)\n",
    "        check_data(data_list=data_list)\n",
    "\n",
    "        save_dir = f'{path_data_model}{name_game}.pt'\n",
    "        torch.save(data, save_dir)\n"
   ]
  },
  {
   "cell_type": "markdown",
   "metadata": {},
   "source": [
    "#### Create graph between players from a moment"
   ]
  },
  {
   "cell_type": "markdown",
   "metadata": {},
   "source": [
    "#### Parse it to graph"
   ]
  },
  {
   "cell_type": "markdown",
   "metadata": {},
   "source": [
    "#### Write to disk"
   ]
  },
  {
   "cell_type": "code",
   "execution_count": null,
   "metadata": {},
   "outputs": [],
   "source": [
    "batch_size = 32\n",
    "dataset = DiskDataset(directory=path_data_model)\n",
    "loader = dataset.get_loader(batch_size=batch_size, shuffle=True)"
   ]
  },
  {
   "cell_type": "code",
   "execution_count": null,
   "metadata": {},
   "outputs": [
    {
     "name": "stdout",
     "output_type": "stream",
     "text": [
      "Epoch 0, Loss: 0.924708117216159\n"
     ]
    },
    {
     "ename": "KeyboardInterrupt",
     "evalue": "",
     "output_type": "error",
     "traceback": [
      "\u001b[0;31m---------------------------------------------------------------------------\u001b[0m",
      "\u001b[0;31mKeyboardInterrupt\u001b[0m                         Traceback (most recent call last)",
      "Cell \u001b[0;32mIn[15], line 19\u001b[0m\n\u001b[1;32m     16\u001b[0m output \u001b[38;5;241m=\u001b[39m model(batch)\n\u001b[1;32m     18\u001b[0m \u001b[38;5;66;03m# Reshape target tensor to match the shape of the output tensor\u001b[39;00m\n\u001b[0;32m---> 19\u001b[0m target \u001b[38;5;241m=\u001b[39m \u001b[43mbatch\u001b[49m\u001b[38;5;241;43m.\u001b[39;49m\u001b[43my\u001b[49m\u001b[38;5;241m.\u001b[39mview(\u001b[38;5;241m-\u001b[39m\u001b[38;5;241m1\u001b[39m, \u001b[38;5;241m1\u001b[39m)\n\u001b[1;32m     21\u001b[0m loss \u001b[38;5;241m=\u001b[39m criterion(output, target)\n\u001b[1;32m     22\u001b[0m loss\u001b[38;5;241m.\u001b[39mbackward()\n",
      "File \u001b[0;32m~/miniconda3/lib/python3.12/site-packages/torch_geometric/data/data.py:982\u001b[0m, in \u001b[0;36mData.y\u001b[0;34m(self)\u001b[0m\n\u001b[1;32m    980\u001b[0m \u001b[38;5;129m@property\u001b[39m\n\u001b[1;32m    981\u001b[0m \u001b[38;5;28;01mdef\u001b[39;00m \u001b[38;5;21my\u001b[39m(\u001b[38;5;28mself\u001b[39m) \u001b[38;5;241m-\u001b[39m\u001b[38;5;241m>\u001b[39m Optional[Union[Tensor, \u001b[38;5;28mint\u001b[39m, \u001b[38;5;28mfloat\u001b[39m]]:\n\u001b[0;32m--> 982\u001b[0m     \u001b[38;5;28;01mreturn\u001b[39;00m \u001b[38;5;28;43mself\u001b[39;49m\u001b[43m[\u001b[49m\u001b[38;5;124;43m'\u001b[39;49m\u001b[38;5;124;43my\u001b[39;49m\u001b[38;5;124;43m'\u001b[39;49m\u001b[43m]\u001b[49m \u001b[38;5;28;01mif\u001b[39;00m \u001b[38;5;124m'\u001b[39m\u001b[38;5;124my\u001b[39m\u001b[38;5;124m'\u001b[39m \u001b[38;5;129;01min\u001b[39;00m \u001b[38;5;28mself\u001b[39m\u001b[38;5;241m.\u001b[39m_store \u001b[38;5;28;01melse\u001b[39;00m \u001b[38;5;28;01mNone\u001b[39;00m\n",
      "File \u001b[0;32m~/miniconda3/lib/python3.12/site-packages/torch_geometric/data/batch.py:173\u001b[0m, in \u001b[0;36mBatch.__getitem__\u001b[0;34m(self, idx)\u001b[0m\n\u001b[1;32m    166\u001b[0m         \u001b[38;5;28;01mraise\u001b[39;00m \u001b[38;5;167;01mIndexError\u001b[39;00m(\n\u001b[1;32m    167\u001b[0m             \u001b[38;5;124mf\u001b[39m\u001b[38;5;124m\"\u001b[39m\u001b[38;5;124mOnly slices (\u001b[39m\u001b[38;5;124m'\u001b[39m\u001b[38;5;124m:\u001b[39m\u001b[38;5;124m'\u001b[39m\u001b[38;5;124m), list, tuples, torch.tensor and \u001b[39m\u001b[38;5;124m\"\u001b[39m\n\u001b[1;32m    168\u001b[0m             \u001b[38;5;124mf\u001b[39m\u001b[38;5;124m\"\u001b[39m\u001b[38;5;124mnp.ndarray of dtype long or bool are valid indices (got \u001b[39m\u001b[38;5;124m\"\u001b[39m\n\u001b[1;32m    169\u001b[0m             \u001b[38;5;124mf\u001b[39m\u001b[38;5;124m\"\u001b[39m\u001b[38;5;124m'\u001b[39m\u001b[38;5;132;01m{\u001b[39;00m\u001b[38;5;28mtype\u001b[39m(idx)\u001b[38;5;241m.\u001b[39m\u001b[38;5;18m__name__\u001b[39m\u001b[38;5;132;01m}\u001b[39;00m\u001b[38;5;124m'\u001b[39m\u001b[38;5;124m)\u001b[39m\u001b[38;5;124m\"\u001b[39m)\n\u001b[1;32m    171\u001b[0m     \u001b[38;5;28;01mreturn\u001b[39;00m [\u001b[38;5;28mself\u001b[39m\u001b[38;5;241m.\u001b[39mget_example(i) \u001b[38;5;28;01mfor\u001b[39;00m i \u001b[38;5;129;01min\u001b[39;00m index]\n\u001b[0;32m--> 173\u001b[0m \u001b[38;5;28;01mdef\u001b[39;00m \u001b[38;5;21m__getitem__\u001b[39m(\u001b[38;5;28mself\u001b[39m, idx: Union[\u001b[38;5;28mint\u001b[39m, np\u001b[38;5;241m.\u001b[39minteger, \u001b[38;5;28mstr\u001b[39m, IndexType]) \u001b[38;5;241m-\u001b[39m\u001b[38;5;241m>\u001b[39m Any:\n\u001b[1;32m    174\u001b[0m     \u001b[38;5;28;01mif\u001b[39;00m (\u001b[38;5;28misinstance\u001b[39m(idx, (\u001b[38;5;28mint\u001b[39m, np\u001b[38;5;241m.\u001b[39minteger))\n\u001b[1;32m    175\u001b[0m             \u001b[38;5;129;01mor\u001b[39;00m (\u001b[38;5;28misinstance\u001b[39m(idx, Tensor) \u001b[38;5;129;01mand\u001b[39;00m idx\u001b[38;5;241m.\u001b[39mdim() \u001b[38;5;241m==\u001b[39m \u001b[38;5;241m0\u001b[39m)\n\u001b[1;32m    176\u001b[0m             \u001b[38;5;129;01mor\u001b[39;00m (\u001b[38;5;28misinstance\u001b[39m(idx, np\u001b[38;5;241m.\u001b[39mndarray) \u001b[38;5;129;01mand\u001b[39;00m np\u001b[38;5;241m.\u001b[39misscalar(idx))):\n\u001b[1;32m    177\u001b[0m         \u001b[38;5;28;01mreturn\u001b[39;00m \u001b[38;5;28mself\u001b[39m\u001b[38;5;241m.\u001b[39mget_example(idx)  \u001b[38;5;66;03m# type: ignore\u001b[39;00m\n",
      "\u001b[0;31mKeyboardInterrupt\u001b[0m: "
     ]
    }
   ],
   "source": [
    "# Initialize the model, loss function, and optimizer\n",
    "input_dim = 2 ## number of node features\n",
    "hidden_dim = 16\n",
    "output_dim = 1\n",
    "\n",
    "model = GNNRegression(input_dim, hidden_dim, output_dim)\n",
    "criterion = torch.nn.MSELoss()\n",
    "optimizer = torch.optim.Adam(model.parameters(), lr=1e-2)\n",
    "\n",
    "\n",
    "train_nn(model=model, criterion=criterion, optimizer=optimizer, loader=loader)\n"
   ]
  },
  {
   "cell_type": "code",
   "execution_count": null,
   "metadata": {},
   "outputs": [],
   "source": []
  }
 ],
 "metadata": {
  "kernelspec": {
   "display_name": "base",
   "language": "python",
   "name": "python3"
  },
  "language_info": {
   "codemirror_mode": {
    "name": "ipython",
    "version": 3
   },
   "file_extension": ".py",
   "mimetype": "text/x-python",
   "name": "python",
   "nbconvert_exporter": "python",
   "pygments_lexer": "ipython3",
   "version": "3.12.2"
  }
 },
 "nbformat": 4,
 "nbformat_minor": 2
}
